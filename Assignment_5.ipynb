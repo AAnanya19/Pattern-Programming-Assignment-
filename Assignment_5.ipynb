{
  "nbformat": 4,
  "nbformat_minor": 0,
  "metadata": {
    "colab": {
      "name": "Assignment 5.ipynb",
      "provenance": []
    },
    "kernelspec": {
      "name": "python3",
      "display_name": "Python 3"
    },
    "language_info": {
      "name": "python"
    }
  },
  "cells": [
    {
      "cell_type": "markdown",
      "metadata": {
        "id": "LypIvKTH4MMZ"
      },
      "source": [
        "##**ASSIGNMENT 5**\n"
      ]
    },
    {
      "cell_type": "markdown",
      "metadata": {
        "id": "mb2upQLM4QY8"
      },
      "source": [
        "Q1. Given a list of integers, write a function to return the sum of all prime numbers in that\n",
        "list."
      ]
    },
    {
      "cell_type": "code",
      "metadata": {
        "colab": {
          "base_uri": "https://localhost:8080/"
        },
        "id": "5VbE0PZR4YFr",
        "outputId": "54bf5560-bffc-448c-ca18-4885b69f32c3"
      },
      "source": [
        "ls = []\n",
        "n = int(input(\"Enter the number of items in a list: \"))\n",
        "for i in range(n):\n",
        "  inp = int(input(\"Enter a list of integers: \"))\n",
        "  ls.append(inp)\n",
        "\n",
        "print(ls)\n",
        "def check_prime(m):\n",
        "  if m==0 or m==1:\n",
        "    return False \n",
        "  else: \n",
        "    for i in range(2, int(m**0.5)+1):\n",
        "      if m%i==0:\n",
        "        return False\n",
        "        break\n",
        "    else:\n",
        "        return True \n",
        "\n",
        "def s_prime(ls):\n",
        "  s_pri = 0 \n",
        "  for i in ls:\n",
        "    if check_prime(i):\n",
        "      print(i)\n",
        "      s_pri += i\n",
        "  return s_pri \n",
        "\n",
        "\n",
        "s_prime(ls)"
      ],
      "execution_count": 6,
      "outputs": [
        {
          "output_type": "stream",
          "text": [
            "Enter the number of items in a list: 5\n",
            "Enter a list of integers: 7\n",
            "Enter a list of integers: 1\n",
            "Enter a list of integers: 3\n",
            "Enter a list of integers: 9\n",
            "Enter a list of integers: 5\n",
            "[7, 1, 3, 9, 5]\n",
            "7\n",
            "3\n",
            "5\n"
          ],
          "name": "stdout"
        },
        {
          "output_type": "execute_result",
          "data": {
            "text/plain": [
              "15"
            ]
          },
          "metadata": {
            "tags": []
          },
          "execution_count": 6
        }
      ]
    },
    {
      "cell_type": "code",
      "metadata": {
        "colab": {
          "base_uri": "https://localhost:8080/",
          "height": 154
        },
        "id": "EDK9Z0VR4heg",
        "outputId": "fcbb1201-d2dc-4856-cbed-17a901813a6c"
      },
      "source": [
        "ls = []\n",
        "n = int(input(\"Enter the number of items in a list: \"))\n",
        "for i in range(n):\n",
        "  inp = int(input(\"Enter a list of integers: \"))\n",
        "  ls.append(inp)\n",
        "\n",
        "print(ls)\n",
        "\n",
        "def check_inc(ls):\n",
        "  for i in ls:\n",
        "    if ls[i+1] > ls[i]:\n",
        "      return \"The list is strictly increasing. \"\n",
        "    else: \n",
        "      return \"The list is not strictly increasing.\"\n",
        "\n",
        "check_inc(ls)"
      ],
      "execution_count": 7,
      "outputs": [
        {
          "output_type": "stream",
          "text": [
            "Enter the number of items in a list: 5\n",
            "Enter a list of integers: 1\n",
            "Enter a list of integers: 2\n",
            "Enter a list of integers: 3\n",
            "Enter a list of integers: 4\n",
            "Enter a list of integers: 5\n",
            "[1, 2, 3, 4, 5]\n"
          ],
          "name": "stdout"
        },
        {
          "output_type": "execute_result",
          "data": {
            "application/vnd.google.colaboratory.intrinsic+json": {
              "type": "string"
            },
            "text/plain": [
              "'The list is strictly increasing. '"
            ]
          },
          "metadata": {
            "tags": []
          },
          "execution_count": 7
        }
      ]
    },
    {
      "cell_type": "code",
      "metadata": {
        "colab": {
          "base_uri": "https://localhost:8080/",
          "height": 154
        },
        "id": "ZH5KfNLF6Wnz",
        "outputId": "5432bd03-e7d9-4dc9-87ac-b224026bfdaf"
      },
      "source": [
        "ls = []\n",
        "n = int(input(\"Enter the number of items in a list: \"))\n",
        "for i in range(n):\n",
        "  inp = int(input(\"Enter a list of integers: \"))\n",
        "  ls.append(inp)\n",
        "\n",
        "print(ls)\n",
        "def check_exp(ls):\n",
        "  for i in ls: \n",
        "    if (ls[i+1]- ls[i]) < (ls[i+2] - ls[i+1]):\n",
        "      return \"List is Expanding\"\n",
        "    else:\n",
        "      return \"List is not Expanding\"\n",
        "\n",
        "check_exp(ls)"
      ],
      "execution_count": 8,
      "outputs": [
        {
          "output_type": "stream",
          "text": [
            "Enter the number of items in a list: 5\n",
            "Enter a list of integers: 1\n",
            "Enter a list of integers: 3\n",
            "Enter a list of integers: 6\n",
            "Enter a list of integers: 10\n",
            "Enter a list of integers: 15\n",
            "[1, 3, 6, 10, 15]\n"
          ],
          "name": "stdout"
        },
        {
          "output_type": "execute_result",
          "data": {
            "application/vnd.google.colaboratory.intrinsic+json": {
              "type": "string"
            },
            "text/plain": [
              "'List is Expanding'"
            ]
          },
          "metadata": {
            "tags": []
          },
          "execution_count": 8
        }
      ]
    },
    {
      "cell_type": "code",
      "metadata": {
        "colab": {
          "base_uri": "https://localhost:8080/"
        },
        "id": "0SGlsn3x6ea_",
        "outputId": "db2f3896-b1a0-4003-b915-218383344ef3"
      },
      "source": [
        "st = input(\"Enter the string: \")\n",
        "\n",
        " \n",
        "# Finding all permutation\n",
        "ls = []\n",
        " \n",
        "def permute(data, i, length):\n",
        "    if i == length:\n",
        "        ls.append(''.join(data) )\n",
        "    else:\n",
        "        for j in range(i, length):\n",
        "            # swap\n",
        "            data[i], data[j] = data[j], data[i]\n",
        "            permute(data, i + 1, length)\n",
        "            data[i], data[j] = data[j], data[i] \n",
        "permute(list(st), 0, len(st))\n",
        " \n",
        "# Printing result\n",
        "print(\"Resultant permutations\", str(ls))"
      ],
      "execution_count": 10,
      "outputs": [
        {
          "output_type": "stream",
          "text": [
            "Enter the string: ANAN\n",
            "Resultant permutations ['ANAN', 'ANNA', 'AANN', 'AANN', 'ANAN', 'ANNA', 'NAAN', 'NANA', 'NAAN', 'NANA', 'NNAA', 'NNAA', 'ANAN', 'ANNA', 'AANN', 'AANN', 'ANAN', 'ANNA', 'NNAA', 'NNAA', 'NANA', 'NAAN', 'NAAN', 'NANA']\n"
          ],
          "name": "stdout"
        }
      ]
    },
    {
      "cell_type": "code",
      "metadata": {
        "id": "PAKIAXH-6l9R"
      },
      "source": [
        ""
      ],
      "execution_count": null,
      "outputs": []
    }
  ]
}