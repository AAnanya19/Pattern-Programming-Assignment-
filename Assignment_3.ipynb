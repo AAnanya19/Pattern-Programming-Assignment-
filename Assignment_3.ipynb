{
  "nbformat": 4,
  "nbformat_minor": 0,
  "metadata": {
    "colab": {
      "name": "Assignment 3.ipynb",
      "provenance": []
    },
    "kernelspec": {
      "name": "python3",
      "display_name": "Python 3"
    },
    "language_info": {
      "name": "python"
    }
  },
  "cells": [
    {
      "cell_type": "markdown",
      "metadata": {
        "id": "rnfQIUUMSkmK"
      },
      "source": [
        "#**ASSIGNMENT 3**"
      ]
    },
    {
      "cell_type": "markdown",
      "metadata": {
        "id": "dSaogyfCSiZ9"
      },
      "source": [
        "**Q1. Write a function to return nth term of Fibonacci sequence.**"
      ]
    },
    {
      "cell_type": "code",
      "metadata": {
        "colab": {
          "base_uri": "https://localhost:8080/"
        },
        "id": "ByPNaUjXPrKL",
        "outputId": "f6d65127-e405-499a-924c-0dc81eaf7831"
      },
      "source": [
        "def fib(n):\n",
        "  if n<=1:\n",
        "    return n\n",
        "  else:\n",
        "    return fib(n-1) + fib(n-2)\n",
        "\n",
        "n = int(input(\"Enter a number: \"))\n",
        "if n<0:\n",
        "  print(\"Enter a positive number.\")\n",
        "else:\n",
        "  for i in range(n):\n",
        "    print(fib(i), end=\" \")"
      ],
      "execution_count": null,
      "outputs": [
        {
          "output_type": "stream",
          "text": [
            "Enter a number: 10\n",
            "0 1 1 2 3 5 8 13 21 34 "
          ],
          "name": "stdout"
        }
      ]
    },
    {
      "cell_type": "markdown",
      "metadata": {
        "id": "tT22d9OcSho9"
      },
      "source": [
        "**Q2. Write a function to find out GCD of two numbers using EUCLID'S algorithm.**"
      ]
    },
    {
      "cell_type": "code",
      "metadata": {
        "id": "nb2m71tKSZSE",
        "colab": {
          "base_uri": "https://localhost:8080/"
        },
        "outputId": "8a488e81-d0b0-4e41-c0ca-4a8647407665"
      },
      "source": [
        "def GCD(a,b):\n",
        "    if b==0:\n",
        "        return a\n",
        "    else:\n",
        "        return GCD(b,a%b)\n",
        "num1= int(input(\"Enter first number\"))\n",
        "num2= int(input(\"Enter second number\"))\n",
        "print(\"GCD is\", GCD(num1,num2))"
      ],
      "execution_count": 3,
      "outputs": [
        {
          "output_type": "stream",
          "text": [
            "Enter first number5\n",
            "Enter second number15\n",
            "GCD is 5\n"
          ],
          "name": "stdout"
        }
      ]
    },
    {
      "cell_type": "markdown",
      "metadata": {
        "id": "pyAT2EiCWJI4"
      },
      "source": [
        "**Q.3 Write a function to find LCM of two number in most optimizers way.**"
      ]
    },
    {
      "cell_type": "code",
      "metadata": {
        "colab": {
          "base_uri": "https://localhost:8080/"
        },
        "id": "qbErRyutWEiS",
        "outputId": "5941a2d6-c011-4aac-84cf-b043f451d11b"
      },
      "source": [
        "def lcm(num1,num2):\n",
        "    return (num1//GCD(num1,num2))*num2\n",
        "num1=int(input(\"Enter first number\"))\n",
        "num2=int(input(\"Enter seconf number\"))\n",
        "print('Lcm of ',num1,\"and\",num2,'is :',lcm(num1,num2))"
      ],
      "execution_count": 4,
      "outputs": [
        {
          "output_type": "stream",
          "text": [
            "Enter first number5\n",
            "Enter seconf number15\n",
            "Lcm of  5 and 15 is : 15\n"
          ],
          "name": "stdout"
        }
      ]
    }
  ]
}