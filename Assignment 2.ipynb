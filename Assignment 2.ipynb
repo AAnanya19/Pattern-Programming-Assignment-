{
  "nbformat": 4,
  "nbformat_minor": 0,
  "metadata": {
    "colab": {
      "name": "Untitled6.ipynb",
      "provenance": []
    },
    "kernelspec": {
      "name": "python3",
      "display_name": "Python 3"
    },
    "language_info": {
      "name": "python"
    }
  },
  "cells": [
    {
      "cell_type": "markdown",
      "metadata": {
        "id": "yu6NHFDtHDuo"
      },
      "source": [
        "# **`ASSIGNMENT 2`**\n",
        "\n",
        "\n",
        "\n"
      ]
    },
    {
      "cell_type": "markdown",
      "metadata": {
        "id": "vd72y788_G04"
      },
      "source": [
        "**Q1. Write a lambda expression to extract first word of a string.**"
      ]
    },
    {
      "cell_type": "code",
      "metadata": {
        "id": "3mrl-QAw_Iyq"
      },
      "source": [
        "lam = (lambda stri: stri.split()[0])\n",
        "print(lam('My name is Ananya'))"
      ],
      "execution_count": null,
      "outputs": []
    },
    {
      "cell_type": "markdown",
      "metadata": {
        "id": "kntusW_1_Qbt"
      },
      "source": [
        "**Q2. Write a function to extract first word of s string (with many words separated by space).**"
      ]
    },
    {
      "cell_type": "code",
      "metadata": {
        "colab": {
          "base_uri": "https://localhost:8080/"
        },
        "id": "T_dRb2NO_Tw1",
        "outputId": "6989ceec-3290-4f50-d6f5-47f1fbc9902f"
      },
      "source": [
        "def ext(st):\n",
        "  return st.split()[0]\n",
        "\n",
        "st = input(\"Enter a string: \")\n",
        "print(ext(st))\n",
        "\n"
      ],
      "execution_count": 3,
      "outputs": [
        {
          "output_type": "stream",
          "text": [
            "Enter a string: My name is Ananya\n",
            "My\n"
          ],
          "name": "stdout"
        }
      ]
    },
    {
      "cell_type": "markdown",
      "metadata": {
        "id": "NqilW-t6BOAF"
      },
      "source": [
        "**Q3. Extract the first word from every string from a list of strings by using map function.**"
      ]
    },
    {
      "cell_type": "code",
      "metadata": {
        "colab": {
          "base_uri": "https://localhost:8080/"
        },
        "id": "uHdb-CqC_oUL",
        "outputId": "1ddc65dd-cde5-4cee-c4cd-7b8ed972f8aa"
      },
      "source": [
        "lst = ['My name is Ananya','I am 20 years old','Studying computer science']\n",
        "list(map(ext, lst))"
      ],
      "execution_count": 6,
      "outputs": [
        {
          "output_type": "execute_result",
          "data": {
            "text/plain": [
              "['My', 'I', 'Studying']"
            ]
          },
          "metadata": {
            "tags": []
          },
          "execution_count": 6
        }
      ]
    },
    {
      "cell_type": "markdown",
      "metadata": {
        "id": "HQ7z1vDPBoaI"
      },
      "source": [
        "**Q4. Write a function to return a list of prime factors of a given number.**"
      ]
    },
    {
      "cell_type": "code",
      "metadata": {
        "colab": {
          "base_uri": "https://localhost:8080/"
        },
        "id": "A83J-5EKA0r_",
        "outputId": "29ced11c-e06b-46e4-f9e5-ec88ef1ea15a"
      },
      "source": [
        "def prime(x):\n",
        "  lst=[]\n",
        "  i=2 \n",
        "  while(i<=x):\n",
        "    if x%i ==0:\n",
        "      lst.append(i)\n",
        "      x = x//i\n",
        "    else: \n",
        "      i=i+1\n",
        "  return lst\n",
        "\n",
        "x = int(input(\"Enter a number: \"))\n",
        "print(prime(x))"
      ],
      "execution_count": 23,
      "outputs": [
        {
          "output_type": "stream",
          "text": [
            "Enter a number: 150\n",
            "[2, 3, 5, 5]\n"
          ],
          "name": "stdout"
        }
      ]
    },
    {
      "cell_type": "markdown",
      "metadata": {
        "id": "8lHWhRJMGLgP"
      },
      "source": [
        "**Q5. Write a function that finds 2nd largest among 4 numbers (Repetitions are allowed, without sorting).**"
      ]
    },
    {
      "cell_type": "code",
      "metadata": {
        "colab": {
          "base_uri": "https://localhost:8080/"
        },
        "id": "xf6XFtBhGdVL",
        "outputId": "6f24d887-6df9-413f-a4db-f07eb75eb728"
      },
      "source": [
        "lst= []\n",
        "\n",
        "for i in range(4):\n",
        "  num = int(input(\"Enter 4 numbers: \"))\n",
        "  lst.append(num)\n",
        "print(lst)\n",
        "\n",
        "\n",
        "def sec_largest() :\n",
        "    max_num = max(lst) \n",
        "    return max(lst, key = lambda x : min(lst)-1 if (x == max_num) else x)\n",
        "\n",
        "sec_largest()\n",
        "    "
      ],
      "execution_count": 34,
      "outputs": [
        {
          "output_type": "stream",
          "text": [
            "Enter 4 numbers: 10\n",
            "Enter 4 numbers: 5\n",
            "Enter 4 numbers: 10\n",
            "Enter 4 numbers: 5\n",
            "[10, 5, 10, 5]\n"
          ],
          "name": "stdout"
        },
        {
          "output_type": "execute_result",
          "data": {
            "text/plain": [
              "5"
            ]
          },
          "metadata": {
            "tags": []
          },
          "execution_count": 34
        }
      ]
    },
    {
      "cell_type": "code",
      "metadata": {
        "id": "FufXiDCaG1IU"
      },
      "source": [
        ""
      ],
      "execution_count": 33,
      "outputs": []
    }
  ]
}