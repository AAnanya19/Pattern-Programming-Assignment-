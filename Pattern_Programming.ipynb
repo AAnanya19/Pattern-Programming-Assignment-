{
  "nbformat": 4,
  "nbformat_minor": 0,
  "metadata": {
    "colab": {
      "name": "Pattern Programming.ipynb",
      "provenance": [],
      "collapsed_sections": []
    },
    "kernelspec": {
      "name": "python3",
      "display_name": "Python 3"
    },
    "language_info": {
      "name": "python"
    }
  },
  "cells": [
    {
      "cell_type": "markdown",
      "metadata": {
        "id": "vLSVvvhUsvwu"
      },
      "source": [
        "ANANYA AGARWAL- Pattern Programming (Assignment 1)"
      ]
    },
    {
      "cell_type": "markdown",
      "metadata": {
        "id": "pklBqbnrrHS3"
      },
      "source": [
        "1.\n"
      ]
    },
    {
      "cell_type": "code",
      "metadata": {
        "colab": {
          "base_uri": "https://localhost:8080/"
        },
        "id": "kcx1taQxrGwy",
        "outputId": "b44acdb3-9c8a-4ebd-d5b9-a0a13c01e872"
      },
      "source": [
        "for i in range(5):\n",
        "  for j in range(i,5):\n",
        "    print(\"5\", end=' ')\n",
        "  print()"
      ],
      "execution_count": 1,
      "outputs": [
        {
          "output_type": "stream",
          "text": [
            "5 5 5 5 5 \n",
            "5 5 5 5 \n",
            "5 5 5 \n",
            "5 5 \n",
            "5 \n"
          ],
          "name": "stdout"
        }
      ]
    },
    {
      "cell_type": "markdown",
      "metadata": {
        "id": "Oc7Uo3kBrTZ7"
      },
      "source": [
        "2."
      ]
    },
    {
      "cell_type": "code",
      "metadata": {
        "colab": {
          "base_uri": "https://localhost:8080/"
        },
        "id": "rLF9slsFrUPZ",
        "outputId": "5b6083ce-953c-4b04-b4ca-6693f1408c5a"
      },
      "source": [
        "for i in range(5):\n",
        "  for j in range(0,6-i):\n",
        "    print(j, end= ' ')\n",
        "\n",
        "  print()"
      ],
      "execution_count": 2,
      "outputs": [
        {
          "output_type": "stream",
          "text": [
            "0 1 2 3 4 5 \n",
            "0 1 2 3 4 \n",
            "0 1 2 3 \n",
            "0 1 2 \n",
            "0 1 \n"
          ],
          "name": "stdout"
        }
      ]
    },
    {
      "cell_type": "markdown",
      "metadata": {
        "id": "mZ5XMBkVrXOE"
      },
      "source": [
        "3."
      ]
    },
    {
      "cell_type": "code",
      "metadata": {
        "colab": {
          "base_uri": "https://localhost:8080/"
        },
        "id": "xlictP61rbwn",
        "outputId": "92f516a3-7c74-4486-b5c9-3e834db48615"
      },
      "source": [
        "for i in range(1,6):\n",
        "  for j in range(0,i):\n",
        "    print(i*2-1, end= ' ')\n",
        "  print()\n"
      ],
      "execution_count": 3,
      "outputs": [
        {
          "output_type": "stream",
          "text": [
            "1 \n",
            "3 3 \n",
            "5 5 5 \n",
            "7 7 7 7 \n",
            "9 9 9 9 9 \n"
          ],
          "name": "stdout"
        }
      ]
    },
    {
      "cell_type": "markdown",
      "metadata": {
        "id": "o9Q4OKiTriDF"
      },
      "source": [
        "4."
      ]
    },
    {
      "cell_type": "code",
      "metadata": {
        "colab": {
          "base_uri": "https://localhost:8080/"
        },
        "id": "mNOf1nRXri-Q",
        "outputId": "6d641aec-5d2b-4caa-ce38-f53803536da7"
      },
      "source": [
        "for i in range(1,6):\n",
        "  for j in range(i,0,-1):\n",
        "    print(j, end=' ')\n",
        "  print()"
      ],
      "execution_count": 4,
      "outputs": [
        {
          "output_type": "stream",
          "text": [
            "1 \n",
            "2 1 \n",
            "3 2 1 \n",
            "4 3 2 1 \n",
            "5 4 3 2 1 \n"
          ],
          "name": "stdout"
        }
      ]
    },
    {
      "cell_type": "markdown",
      "metadata": {
        "id": "On-qBaBgrmFb"
      },
      "source": [
        "5."
      ]
    },
    {
      "cell_type": "code",
      "metadata": {
        "colab": {
          "base_uri": "https://localhost:8080/"
        },
        "id": "N9CiFBt5rlao",
        "outputId": "437f4431-a5c3-45d2-c87c-2b82df664f57"
      },
      "source": [
        "a = 1\n",
        "b = 2\n",
        "int_number = b\n",
        "for i in range(2,6):\n",
        "  for j in range(a,b):\n",
        "    int_number -= 1\n",
        "    print(int_number ,end=\" \")\n",
        "  print()\n",
        "  a = b\n",
        "  b += i\n",
        "  int_number = b"
      ],
      "execution_count": 5,
      "outputs": [
        {
          "output_type": "stream",
          "text": [
            "1 \n",
            "3 2 \n",
            "6 5 4 \n",
            "10 9 8 7 \n"
          ],
          "name": "stdout"
        }
      ]
    },
    {
      "cell_type": "markdown",
      "metadata": {
        "id": "6VYHi4D7rwjZ"
      },
      "source": [
        "6."
      ]
    },
    {
      "cell_type": "code",
      "metadata": {
        "colab": {
          "base_uri": "https://localhost:8080/"
        },
        "id": "kyFCRiF6rxbS",
        "outputId": "f88f0d63-275c-4545-d439-43136395ac5a"
      },
      "source": [
        "def printPascal(n) :\n",
        "    for i in range(0, n) :\n",
        "        for j in range(0, i + 1) :\n",
        "            print(function(i, j),\" \", end = \"\")\n",
        "        print()\n",
        "     \n",
        " \n",
        "def function(n, k) :\n",
        "    res = 1\n",
        "    if (k > n - k) :\n",
        "        k = n - k\n",
        "    for i in range(0 , k) :\n",
        "        res = res * (n - i)\n",
        "        res = res // (i + 1)\n",
        "     \n",
        "    return res\n",
        "\n",
        "n = 7\n",
        "printPascal(n)"
      ],
      "execution_count": 6,
      "outputs": [
        {
          "output_type": "stream",
          "text": [
            "1  \n",
            "1  1  \n",
            "1  2  1  \n",
            "1  3  3  1  \n",
            "1  4  6  4  1  \n",
            "1  5  10  10  5  1  \n",
            "1  6  15  20  15  6  1  \n"
          ],
          "name": "stdout"
        }
      ]
    },
    {
      "cell_type": "markdown",
      "metadata": {
        "id": "w7gh5SHNr0ss"
      },
      "source": [
        "7."
      ]
    },
    {
      "cell_type": "code",
      "metadata": {
        "colab": {
          "base_uri": "https://localhost:8080/"
        },
        "id": "9DMa3xzQr1cp",
        "outputId": "fa79d864-9fee-4061-c31c-386203102fdf"
      },
      "source": [
        "n = int(input(\"Enter the number of rows:\"))\n",
        "for i in range(1, n+1):\n",
        "  for j in range(1, n+1):\n",
        "    if j<=i:\n",
        "      print(i,end=' ')\n",
        "    else:\n",
        "      print(j,end=\" \")\n",
        "  print()"
      ],
      "execution_count": 8,
      "outputs": [
        {
          "output_type": "stream",
          "text": [
            "Enter the number of rows:5\n",
            "1 2 3 4 5 \n",
            "2 2 3 4 5 \n",
            "3 3 3 4 5 \n",
            "4 4 4 4 5 \n",
            "5 5 5 5 5 \n"
          ],
          "name": "stdout"
        }
      ]
    },
    {
      "cell_type": "markdown",
      "metadata": {
        "id": "-7YZp3Mwr5mQ"
      },
      "source": [
        "8."
      ]
    },
    {
      "cell_type": "code",
      "metadata": {
        "colab": {
          "base_uri": "https://localhost:8080/"
        },
        "id": "hxDkcD5mr6c4",
        "outputId": "324c5ce7-3c01-42b9-b217-7be9d777715c"
      },
      "source": [
        "n = int(input(\"Enter the number of rows:\"))\n",
        "for i in range(1, n+1):\n",
        "  for j in range(1, i+1):\n",
        "    print(i*j, end=' ')\n",
        "  print()"
      ],
      "execution_count": 9,
      "outputs": [
        {
          "output_type": "stream",
          "text": [
            "Enter the number of rows:8\n",
            "1 \n",
            "2 4 \n",
            "3 6 9 \n",
            "4 8 12 16 \n",
            "5 10 15 20 25 \n",
            "6 12 18 24 30 36 \n",
            "7 14 21 28 35 42 49 \n",
            "8 16 24 32 40 48 56 64 \n"
          ],
          "name": "stdout"
        }
      ]
    },
    {
      "cell_type": "markdown",
      "metadata": {
        "id": "ouVSyHvzsFH2"
      },
      "source": [
        "9."
      ]
    },
    {
      "cell_type": "code",
      "metadata": {
        "colab": {
          "base_uri": "https://localhost:8080/"
        },
        "id": "I9r7yalZsF1q",
        "outputId": "ae9b4f4c-b650-4bd5-add1-3fb92a22c68b"
      },
      "source": [
        "n = 5\n",
        "k = 2*n-2\n",
        "for i in range(n, -1, -1):\n",
        "    for j in range(k, 0, -1):\n",
        "        print(end=\" \")\n",
        "    k = k + 1\n",
        "    for j in range(0, i + 1):\n",
        "        print(\"*\", end=\" \")\n",
        "    print(\" \")"
      ],
      "execution_count": 10,
      "outputs": [
        {
          "output_type": "stream",
          "text": [
            "        * * * * * *  \n",
            "         * * * * *  \n",
            "          * * * *  \n",
            "           * * *  \n",
            "            * *  \n",
            "             *  \n"
          ],
          "name": "stdout"
        }
      ]
    },
    {
      "cell_type": "markdown",
      "metadata": {
        "id": "sYXjjWz2sIZL"
      },
      "source": [
        "10."
      ]
    },
    {
      "cell_type": "code",
      "metadata": {
        "colab": {
          "base_uri": "https://localhost:8080/"
        },
        "id": "zHOiWMgJsJE3",
        "outputId": "fc3f64ac-d5b3-46db-b018-fe9f117e4043"
      },
      "source": [
        "n = int(input(\"Enter the number of rows:\"))\n",
        "m = 2*n-2\n",
        "for i in range(0,n):\n",
        "    for j in range(0,m):\n",
        "        print(end=\" \")\n",
        "    m = m-1\n",
        "    for j in range(0, i + 1):\n",
        "        print(\"*\", end=\" \")\n",
        "    print(\" \")"
      ],
      "execution_count": 11,
      "outputs": [
        {
          "output_type": "stream",
          "text": [
            "Enter the number of rows:8\n",
            "              *  \n",
            "             * *  \n",
            "            * * *  \n",
            "           * * * *  \n",
            "          * * * * *  \n",
            "         * * * * * *  \n",
            "        * * * * * * *  \n",
            "       * * * * * * * *  \n"
          ],
          "name": "stdout"
        }
      ]
    },
    {
      "cell_type": "markdown",
      "metadata": {
        "id": "VdiHuzKgsPAS"
      },
      "source": [
        "11."
      ]
    },
    {
      "cell_type": "code",
      "metadata": {
        "colab": {
          "base_uri": "https://localhost:8080/"
        },
        "id": "6WbTBwDZsPq1",
        "outputId": "1588fd03-660a-4162-9e19-aa75eb51ee3e"
      },
      "source": [
        "n = int(input(\"Enter the number of rows:\"))\n",
        "\n",
        "#1st pattern\n",
        "\n",
        "for i in range(0,n):\n",
        "  for j in range(0,i+1):\n",
        "    print(\"*\",end=\" \")\n",
        "  print(\" \")\n",
        "\n",
        "print(\"                 \")\n",
        "#2nd pattern\n",
        "for i in range(n+1,0,-1):\n",
        "  for j in range(0,i-1):\n",
        "    print(\"*\",end=\" \")\n",
        "  print(\" \")\n"
      ],
      "execution_count": 13,
      "outputs": [
        {
          "output_type": "stream",
          "text": [
            "Enter the number of rows:6\n",
            "*  \n",
            "* *  \n",
            "* * *  \n",
            "* * * *  \n",
            "* * * * *  \n",
            "* * * * * *  \n",
            "                 \n",
            "* * * * * *  \n",
            "* * * * *  \n",
            "* * * *  \n",
            "* * *  \n",
            "* *  \n",
            "*  \n",
            " \n"
          ],
          "name": "stdout"
        }
      ]
    },
    {
      "cell_type": "markdown",
      "metadata": {
        "id": "Rw-o5UOgsYmb"
      },
      "source": [
        "12."
      ]
    },
    {
      "cell_type": "code",
      "metadata": {
        "colab": {
          "base_uri": "https://localhost:8080/"
        },
        "id": "PiSw33ycsVw8",
        "outputId": "f929e96a-d4fb-4280-a2ba-841f4850d65d"
      },
      "source": [
        "def pattern(n):\n",
        "  for i in range(0,n):\n",
        "    for j in range(0,i+1):\n",
        "      print(\"*\",end=\" \")\n",
        "    print()\n",
        "  for i in range(n, 0, -1):\n",
        "    for j in range(0,i+1):\n",
        "      print(\"*\",end=\" \")\n",
        "    print() \n",
        "pattern(5)"
      ],
      "execution_count": 14,
      "outputs": [
        {
          "output_type": "stream",
          "text": [
            "* \n",
            "* * \n",
            "* * * \n",
            "* * * * \n",
            "* * * * * \n",
            "* * * * * * \n",
            "* * * * * \n",
            "* * * * \n",
            "* * * \n",
            "* * \n"
          ],
          "name": "stdout"
        }
      ]
    },
    {
      "cell_type": "markdown",
      "metadata": {
        "id": "X5_v6ZGuseud"
      },
      "source": [
        "13."
      ]
    },
    {
      "cell_type": "code",
      "metadata": {
        "colab": {
          "base_uri": "https://localhost:8080/"
        },
        "id": "d3e45BfBsf2l",
        "outputId": "9e35998c-d3fc-4178-8732-03d0d451fe67"
      },
      "source": [
        "def pattern(n):\n",
        "  k = 2*n-2\n",
        "  for i in range(0,n-1):\n",
        "    for j in range(0,k):\n",
        "      print(end=\" \")\n",
        "    k = k-2\n",
        "    for j in range(0,i+1):\n",
        "      print(\"*\",end=\" \")\n",
        "    print()  \n",
        "  k = -1\n",
        "  for i in range(n-1,-1,-1):\n",
        "    for j in range(k,-1,-1):\n",
        "      print(end=\" \")\n",
        "    k = k+2 \n",
        "    for j in range(0,i+1):\n",
        "      print(\"*\",end=\" \")\n",
        "    print()\n",
        "\n",
        "pattern(5)"
      ],
      "execution_count": 15,
      "outputs": [
        {
          "output_type": "stream",
          "text": [
            "        * \n",
            "      * * \n",
            "    * * * \n",
            "  * * * * \n",
            "* * * * * \n",
            "  * * * * \n",
            "    * * * \n",
            "      * * \n",
            "        * \n"
          ],
          "name": "stdout"
        }
      ]
    },
    {
      "cell_type": "markdown",
      "metadata": {
        "id": "L0AE5E4bsiKc"
      },
      "source": [
        "14."
      ]
    },
    {
      "cell_type": "code",
      "metadata": {
        "colab": {
          "base_uri": "https://localhost:8080/"
        },
        "id": "f5U2H6gGsjRC",
        "outputId": "3b1634cb-4b49-44bd-d2db-199103a9458b"
      },
      "source": [
        "def pattern(n):\n",
        " \n",
        "    # for loop for printing upper half\n",
        "    for i in range(1, n + 1):\n",
        "        for k in range(1, i):\n",
        "            print(\" \", end = \"\")\n",
        "        for j in range(i, n + 1):\n",
        "            print(\"*\", end = \" \")\n",
        "        print()\n",
        "     \n",
        "    # for loop for printing lower half\n",
        "    for i in range(n - 1, 0, -1):\n",
        "        for k in range(1, i):\n",
        "            print(\" \", end = \"\")\n",
        "        for j in range(i, n + 1):\n",
        "            print(\"*\", end = \" \")\n",
        "        print()\n",
        "     \n",
        " \n",
        "pattern(7)"
      ],
      "execution_count": 16,
      "outputs": [
        {
          "output_type": "stream",
          "text": [
            "* * * * * * * \n",
            " * * * * * * \n",
            "  * * * * * \n",
            "   * * * * \n",
            "    * * * \n",
            "     * * \n",
            "      * \n",
            "     * * \n",
            "    * * * \n",
            "   * * * * \n",
            "  * * * * * \n",
            " * * * * * * \n",
            "* * * * * * * \n"
          ],
          "name": "stdout"
        }
      ]
    },
    {
      "cell_type": "markdown",
      "metadata": {
        "id": "Csuc-f5eslm4"
      },
      "source": [
        "15."
      ]
    },
    {
      "cell_type": "code",
      "metadata": {
        "colab": {
          "base_uri": "https://localhost:8080/"
        },
        "id": "iy4WQHg8smSw",
        "outputId": "5b46aa74-2f73-45f4-f93e-0cd1292e4f70"
      },
      "source": [
        "n = int(input(\"enter number of rows :\"))\n",
        "print(\"*\"*n, end=\"\\n\")\n",
        "i = (n // 2) -1\n",
        "j = 2\n",
        "while i !=0:\n",
        "  while j <=(n -2):\n",
        "    print(\"*\" * i,end =\"\")\n",
        "    print(\"_\" * j,end =\"\")\n",
        "    print(\"*\" * i,end =\"\\n\")\n",
        "    i =i -1\n",
        "    j = j +2"
      ],
      "execution_count": 18,
      "outputs": [
        {
          "output_type": "stream",
          "text": [
            "enter number of rows :15\n",
            "***************\n",
            "******__******\n",
            "*****____*****\n",
            "****______****\n",
            "***________***\n",
            "**__________**\n",
            "*____________*\n"
          ],
          "name": "stdout"
        }
      ]
    }
  ]
}